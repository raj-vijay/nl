{
  "nbformat": 4,
  "nbformat_minor": 0,
  "metadata": {
    "colab": {
      "name": "03. Natural Language Processing – Language modelling.ipynb",
      "provenance": [],
      "collapsed_sections": [],
      "authorship_tag": "ABX9TyNRWSWfYAxKKsclXen6ISAP",
      "include_colab_link": true
    },
    "kernelspec": {
      "name": "python3",
      "display_name": "Python 3"
    },
    "language_info": {
      "name": "python"
    }
  },
  "cells": [
    {
      "cell_type": "markdown",
      "metadata": {
        "id": "view-in-github",
        "colab_type": "text"
      },
      "source": [
        "<a href=\"https://colab.research.google.com/github/raj-vijay/nl/blob/master/02_NLP_Language_modelling.ipynb\" target=\"_parent\"><img src=\"https://colab.research.google.com/assets/colab-badge.svg\" alt=\"Open In Colab\"/></a>"
      ]
    },
    {
      "cell_type": "markdown",
      "metadata": {
        "id": "ab_jR57D8pF7"
      },
      "source": [
        "The objective of these practical exercises is to familiarize yourself with NLP programming using python. \n",
        "\n",
        "1. Frequency: Given an input sentence, calculate the frequency ( p(w) ) of each word ( w ) in the sentence according to the formula:"
      ]
    },
    {
      "cell_type": "markdown",
      "metadata": {
        "id": "wfn2cWy6_bxi"
      },
      "source": [
        "![](https://raw.githubusercontent.com/raj-vijay/nl/master/images/probability.png)"
      ]
    },
    {
      "cell_type": "code",
      "metadata": {
        "id": "wUYDSvBP8lrd"
      },
      "source": [
        "import collections\n",
        "import functools"
      ],
      "execution_count": null,
      "outputs": []
    },
    {
      "cell_type": "code",
      "metadata": {
        "id": "yHWQrjHT9FCw"
      },
      "source": [
        "# Function to caluclate word frequencies\n",
        "def word_frequency(input_string, print_dict =False, prob =True):\n",
        "  word_frequency_list=[]\n",
        "  word_count_dict = dict(collections.Counter(input_string.split()))\n",
        "  if prob:\n",
        "    word_count_dict = {k: v / total for total in (sum(word_count_dict.values()),) for k, v in word_count_dict.items()}\n",
        "  if print_dict:\n",
        "    for key, value in word_count_dict.items():\n",
        "      print('The word',key,'frequency is:', round(value,3))\n",
        "  return word_count_dict"
      ],
      "execution_count": null,
      "outputs": []
    },
    {
      "cell_type": "code",
      "metadata": {
        "colab": {
          "base_uri": "https://localhost:8080/"
        },
        "id": "J0ZCJM6U9jhP",
        "outputId": "cc858a58-055a-45c6-ed0c-52ba8bda4cd3"
      },
      "source": [
        "input_string = 'the cat sat on the mat with a cat'\n",
        "prob_dict = word_frequency(input_string, True) "
      ],
      "execution_count": null,
      "outputs": [
        {
          "output_type": "stream",
          "text": [
            "The word the frequency is: 0.222\n",
            "The word cat frequency is: 0.222\n",
            "The word sat frequency is: 0.111\n",
            "The word on frequency is: 0.111\n",
            "The word mat frequency is: 0.111\n",
            "The word with frequency is: 0.111\n",
            "The word a frequency is: 0.111\n"
          ],
          "name": "stdout"
        }
      ]
    },
    {
      "cell_type": "markdown",
      "metadata": {
        "id": "j5hlhEmK_a2c"
      },
      "source": [
        "2. Unigram\tLM: Given\tan\tinput\tsentence\t(\ts\t),\tcalculate\tthe\tunigram\tlanguage\tmodel\tof\tthe\tsentence\taccording\tto the\tformula:"
      ]
    },
    {
      "cell_type": "markdown",
      "metadata": {
        "id": "Iks2bs40Z_aH"
      },
      "source": [
        "![](https://raw.githubusercontent.com/raj-vijay/nl/master/images/Unigram.png)"
      ]
    },
    {
      "cell_type": "code",
      "metadata": {
        "id": "b6t5xx6W9bYp"
      },
      "source": [
        "# Function to define unigram scores\n",
        "def unigram_scorer(input_string,prob_dict):\n",
        "  p_sentence =1\n",
        "  for word in input_string.split(' '):\n",
        "    p_sentence = p_sentence *prob_dict[word]\n",
        "  print ('probability of unigram model: ',p_sentence)"
      ],
      "execution_count": null,
      "outputs": []
    },
    {
      "cell_type": "code",
      "metadata": {
        "colab": {
          "base_uri": "https://localhost:8080/"
        },
        "id": "g4P7w-ni91f5",
        "outputId": "b1f2be4d-501a-4ef1-e51f-d84b2135355c"
      },
      "source": [
        "unigram_scorer('the cat sat on the mat with a cat', prob_dict)"
      ],
      "execution_count": null,
      "outputs": [
        {
          "output_type": "stream",
          "text": [
            "probability of unigram model:  4.129879666741113e-08\n"
          ],
          "name": "stdout"
        }
      ]
    },
    {
      "cell_type": "markdown",
      "metadata": {
        "id": "_zZVZtPFAF0K"
      },
      "source": [
        "3. Bigram\tLM: Following\tQuestion\t1&2,\twrite\ta\tprogram\tto\tcompute\tbigram\tprobability\tof\ta\tsentence.\tThe\tinput\tto your\tprogram\tis\ta\tfile\tcontaining\ta\tnumber\tof\tsentences\tand\tthe\toutput\tis\tthe\tprobability\tof\tone\tsentence.\tTo\tcompute\tbigram\trelative\tfrequency use\tthis\tformula:"
      ]
    },
    {
      "cell_type": "code",
      "metadata": {
        "id": "KklwR759-EP6"
      },
      "source": [
        "def read_data(data):\n",
        "  dat=[]\n",
        "  for i in range(len(data)):\n",
        "    for word in data[i].split():\n",
        "      dat.append(word)\n",
        "  print(dat)\n",
        "  return dat"
      ],
      "execution_count": null,
      "outputs": []
    },
    {
      "cell_type": "code",
      "metadata": {
        "id": "fWXQTgUMAZxO"
      },
      "source": [
        "def create_bigram(data):\n",
        "  listOfBigrams = []\n",
        "  bigramCounts = {}\n",
        "  unigramCounts = {}\n",
        "  for i in range(len(data)-1):\n",
        "    if i < len(data) - 1 and data[i+1].islower():\n",
        "      listOfBigrams.append((data[i], data[i + 1]))\n",
        "    if (data[i], data[i+1]) in bigramCounts:\n",
        "      bigramCounts[(data[i], data[i + 1])] += 1\n",
        "    else:\n",
        "      bigramCounts[(data[i], data[i + 1])] = 1\n",
        "    if data[i] in unigramCounts:\n",
        "      unigramCounts[data[i]] += 1\n",
        "    else:\n",
        "      unigramCounts[data[i]] = 1\n",
        "  return listOfBigrams, unigramCounts, bigramCounts"
      ],
      "execution_count": null,
      "outputs": []
    },
    {
      "cell_type": "code",
      "metadata": {
        "id": "YEHTUE49AoH1"
      },
      "source": [
        "def bigram_probability(listOfBigrams, unigramCounts, bigramCounts):\n",
        "  listOfProb = {}\n",
        "  for bigram in listOfBigrams:\n",
        "    word1 = bigram[0]\n",
        "    word2 = bigram[1]\n",
        "    listOfProb[bigram] = (bigramCounts.get(bigram))/(unigramCounts.get(word1))\n",
        "  return listOfProb"
      ],
      "execution_count": null,
      "outputs": []
    },
    {
      "cell_type": "code",
      "metadata": {
        "id": "ue9CFwXHAxJK"
      },
      "source": [
        "def bigram_scorer(inputList):\n",
        "  splt=inputList.split()\n",
        "  outputProb1 = 1\n",
        "  bilist=[]\n",
        "  bigrm=[]\n",
        "  for i in range(len(splt) - 1):\n",
        "    if i < len(splt) - 1:\n",
        "      bilist.append((splt[i], splt[i + 1]))\n",
        "      print(\"\\n The bigrams in given sentence are \")\n",
        "      print(bilist)\n",
        "  for i in range(len(bilist)):\n",
        "    if bilist[i] in bigramProb:\n",
        "      outputProb1 *= bigramProb[bilist[i]]\n",
        "    else:\n",
        "      outputProb1 *= 0 \n",
        "  print('\\n' + 'Probablility of sentence \\\"'+input_string+'\\\" = ' + str(outputProb1))"
      ],
      "execution_count": null,
      "outputs": []
    },
    {
      "cell_type": "code",
      "metadata": {
        "id": "dtnnbuY1BdDf"
      },
      "source": [
        "data= ['<s> a cat sat on the mat </s>']"
      ],
      "execution_count": null,
      "outputs": []
    },
    {
      "cell_type": "code",
      "metadata": {
        "colab": {
          "base_uri": "https://localhost:8080/"
        },
        "id": "NXT2C9kJBi99",
        "outputId": "05345b98-29d3-4336-fd0d-94742ada298f"
      },
      "source": [
        "data = read_data(data)"
      ],
      "execution_count": null,
      "outputs": [
        {
          "output_type": "stream",
          "text": [
            "['<s>', 'a', 'cat', 'sat', 'on', 'the', 'mat', '</s>']\n"
          ],
          "name": "stdout"
        }
      ]
    },
    {
      "cell_type": "code",
      "metadata": {
        "id": "c0AcwgtQCDsE"
      },
      "source": [
        "listOfBigrams, unigramCounts, bigramCounts = create_bigram(data)"
      ],
      "execution_count": null,
      "outputs": []
    },
    {
      "cell_type": "code",
      "metadata": {
        "colab": {
          "base_uri": "https://localhost:8080/"
        },
        "id": "9RMO-5oHCKcf",
        "outputId": "7bd2260a-59a0-4196-aec6-15c3bc4da823"
      },
      "source": [
        "print(\"All the possible Bigrams are \")\n",
        "print(listOfBigrams)"
      ],
      "execution_count": null,
      "outputs": [
        {
          "output_type": "stream",
          "text": [
            "All the possible Bigrams are \n",
            "[('<s>', 'a'), ('a', 'cat'), ('cat', 'sat'), ('sat', 'on'), ('on', 'the'), ('the', 'mat'), ('mat', '</s>')]\n"
          ],
          "name": "stdout"
        }
      ]
    },
    {
      "cell_type": "code",
      "metadata": {
        "colab": {
          "base_uri": "https://localhost:8080/"
        },
        "id": "a_m9I0R5COqG",
        "outputId": "ea98370a-a16c-43d4-e5e3-415bab26e557"
      },
      "source": [
        "print(\"Bigrams along with their frequency \")\n",
        "print(bigramCounts)"
      ],
      "execution_count": null,
      "outputs": [
        {
          "output_type": "stream",
          "text": [
            "Bigrams along with their frequency \n",
            "{('<s>', 'a'): 1, ('a', 'cat'): 1, ('cat', 'sat'): 1, ('sat', 'on'): 1, ('on', 'the'): 1, ('the', 'mat'): 1, ('mat', '</s>'): 1}\n"
          ],
          "name": "stdout"
        }
      ]
    },
    {
      "cell_type": "code",
      "metadata": {
        "colab": {
          "base_uri": "https://localhost:8080/"
        },
        "id": "J_W-Kkc0CQ8S",
        "outputId": "79914f48-6dad-44ef-f6a2-3c870414c17d"
      },
      "source": [
        "print(\"Unigrams along with their frequency \")\n",
        "print(unigramCounts)"
      ],
      "execution_count": null,
      "outputs": [
        {
          "output_type": "stream",
          "text": [
            "Unigrams along with their frequency \n",
            "{'<s>': 1, 'a': 1, 'cat': 1, 'sat': 1, 'on': 1, 'the': 1, 'mat': 1}\n"
          ],
          "name": "stdout"
        }
      ]
    },
    {
      "cell_type": "code",
      "metadata": {
        "id": "615khHOtCYm1"
      },
      "source": [
        "bigramProb = bigram_probability(listOfBigrams, unigramCounts, bigramCounts)"
      ],
      "execution_count": null,
      "outputs": []
    },
    {
      "cell_type": "code",
      "metadata": {
        "colab": {
          "base_uri": "https://localhost:8080/"
        },
        "id": "f4dxw36WCZ8H",
        "outputId": "85e676d9-31a4-4cd1-b9b6-334ba8645d2a"
      },
      "source": [
        "print(\"Bigrams along with their probability:\")\n",
        "print(bigramProb)"
      ],
      "execution_count": null,
      "outputs": [
        {
          "output_type": "stream",
          "text": [
            "Bigrams along with their probability:\n",
            "{('<s>', 'a'): 1.0, ('a', 'cat'): 1.0, ('cat', 'sat'): 1.0, ('sat', 'on'): 1.0, ('on', 'the'): 1.0, ('the', 'mat'): 1.0, ('mat', '</s>'): 1.0}\n"
          ],
          "name": "stdout"
        }
      ]
    },
    {
      "cell_type": "code",
      "metadata": {
        "colab": {
          "base_uri": "https://localhost:8080/"
        },
        "id": "ZSxjlqn7CfG-",
        "outputId": "980a629c-36b2-447d-d1a2-d70151d2d376"
      },
      "source": [
        "input_string=\"<s> a cat sat on the mat </s>\"\n",
        "bigram_scorer(input_string)"
      ],
      "execution_count": null,
      "outputs": [
        {
          "output_type": "stream",
          "text": [
            "\n",
            " The bigrams in given sentence are \n",
            "[('<s>', 'a')]\n",
            "\n",
            " The bigrams in given sentence are \n",
            "[('<s>', 'a'), ('a', 'cat')]\n",
            "\n",
            " The bigrams in given sentence are \n",
            "[('<s>', 'a'), ('a', 'cat'), ('cat', 'sat')]\n",
            "\n",
            " The bigrams in given sentence are \n",
            "[('<s>', 'a'), ('a', 'cat'), ('cat', 'sat'), ('sat', 'on')]\n",
            "\n",
            " The bigrams in given sentence are \n",
            "[('<s>', 'a'), ('a', 'cat'), ('cat', 'sat'), ('sat', 'on'), ('on', 'the')]\n",
            "\n",
            " The bigrams in given sentence are \n",
            "[('<s>', 'a'), ('a', 'cat'), ('cat', 'sat'), ('sat', 'on'), ('on', 'the'), ('the', 'mat')]\n",
            "\n",
            " The bigrams in given sentence are \n",
            "[('<s>', 'a'), ('a', 'cat'), ('cat', 'sat'), ('sat', 'on'), ('on', 'the'), ('the', 'mat'), ('mat', '</s>')]\n",
            "\n",
            "Probablility of sentence \"<s> a cat sat on the mat </s>\" = 1.0\n"
          ],
          "name": "stdout"
        }
      ]
    },
    {
      "cell_type": "code",
      "metadata": {
        "colab": {
          "base_uri": "https://localhost:8080/"
        },
        "id": "l8B204PaCjDd",
        "outputId": "1635f26f-48fc-4c4a-c008-267d57265ed2"
      },
      "source": [
        "input_string=\"<s> a cat sat on the car </s>\"\n",
        "bigram_scorer(input_string)"
      ],
      "execution_count": null,
      "outputs": [
        {
          "output_type": "stream",
          "text": [
            "\n",
            " The bigrams in given sentence are \n",
            "[('<s>', 'a')]\n",
            "\n",
            " The bigrams in given sentence are \n",
            "[('<s>', 'a'), ('a', 'cat')]\n",
            "\n",
            " The bigrams in given sentence are \n",
            "[('<s>', 'a'), ('a', 'cat'), ('cat', 'sat')]\n",
            "\n",
            " The bigrams in given sentence are \n",
            "[('<s>', 'a'), ('a', 'cat'), ('cat', 'sat'), ('sat', 'on')]\n",
            "\n",
            " The bigrams in given sentence are \n",
            "[('<s>', 'a'), ('a', 'cat'), ('cat', 'sat'), ('sat', 'on'), ('on', 'the')]\n",
            "\n",
            " The bigrams in given sentence are \n",
            "[('<s>', 'a'), ('a', 'cat'), ('cat', 'sat'), ('sat', 'on'), ('on', 'the'), ('the', 'car')]\n",
            "\n",
            " The bigrams in given sentence are \n",
            "[('<s>', 'a'), ('a', 'cat'), ('cat', 'sat'), ('sat', 'on'), ('on', 'the'), ('the', 'car'), ('car', '</s>')]\n",
            "\n",
            "Probablility of sentence \"<s> a cat sat on the car </s>\" = 0.0\n"
          ],
          "name": "stdout"
        }
      ]
    },
    {
      "cell_type": "markdown",
      "metadata": {
        "id": "XMil5ewvEADx"
      },
      "source": [
        "4. Smoothing: First,\ttry\tanother\tsentence\tusing\tyour program\tof\tQuestion\t3:\n",
        "Calculate\tthe\tprobability\tof\tthe\tsentence\t“<s>\ta\tcat\tsat\ton\tthe\tcar\t</s>”.\tWhat\tresult\tdo\tyou\tget? Think\tabout\twhat\tthe\treason\tis\tand\twhy\twe\tneed\tsmoothing\ttechnique\tin language\tmodelling. Second,\tmodify\tyour\tfunction\tof bigram\trelative\tfrequency according\tto\tadd-one\tsmoothing\tfomula:\t"
      ]
    },
    {
      "cell_type": "code",
      "metadata": {
        "id": "ipTNhbTcEK5Z"
      },
      "source": [
        "def bigram_scorer_with_smoothing(inputList):\n",
        "  splt=inputList.split()\n",
        "  outputProb1 = 1\n",
        "  bilist=[]\n",
        "  bigrm=[]\n",
        "  for i in range(len(splt) - 1):\n",
        "    if i < len(splt) - 1:\n",
        "      bilist.append((splt[i], splt[i + 1]))\n",
        "  print(\"\\n The bigrams in given sentence are \")\n",
        "  print(bilist)\n",
        "  for i in range(len(bilist)):\n",
        "    if bilist[i] in bigramProb:\n",
        "      outputProb1 *= bigramProb[bilist[i]]\n",
        "    elif bilist[i][0] in unigramCounts:\n",
        "      outputProb1 *= 1/ (unigramCounts[bilist[i][0]] + len(unigramCounts))\n",
        "    else:\n",
        "      outputProb1 *= 1/ len(unigramCounts)\n",
        "  \n",
        "  print('\\n' + 'Probablility of sentence \\\"'+input_string+'\\\" = ' + str(outputProb1))"
      ],
      "execution_count": null,
      "outputs": []
    },
    {
      "cell_type": "code",
      "metadata": {
        "colab": {
          "base_uri": "https://localhost:8080/"
        },
        "id": "Y1husFjaEuFZ",
        "outputId": "979ed71d-a7ca-40ef-9ba1-c57f8d3a27c1"
      },
      "source": [
        "input_string=\"<s> This is my car </s>\"\n",
        "bigram_scorer_with_smoothing(input_string) "
      ],
      "execution_count": null,
      "outputs": [
        {
          "output_type": "stream",
          "text": [
            "\n",
            " The bigrams in given sentence are \n",
            "[('<s>', 'This'), ('This', 'is'), ('is', 'my'), ('my', 'car'), ('car', '</s>')]\n",
            "\n",
            "Probablility of sentence \"<s> This is my car </s>\" = 5.206164098292377e-05\n"
          ],
          "name": "stdout"
        }
      ]
    }
  ]
}