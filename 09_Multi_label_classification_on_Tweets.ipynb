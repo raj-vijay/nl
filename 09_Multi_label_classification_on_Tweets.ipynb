{
  "nbformat": 4,
  "nbformat_minor": 0,
  "metadata": {
    "colab": {
      "name": "09_Multi-label_classification_on Tweets.ipynb",
      "provenance": [],
      "collapsed_sections": [],
      "authorship_tag": "ABX9TyOfT6Dm5y9+BRugHnHHWibb",
      "include_colab_link": true
    },
    "kernelspec": {
      "name": "python3",
      "display_name": "Python 3"
    },
    "language_info": {
      "name": "python"
    }
  },
  "cells": [
    {
      "cell_type": "markdown",
      "metadata": {
        "id": "view-in-github",
        "colab_type": "text"
      },
      "source": [
        "<a href=\"https://colab.research.google.com/github/raj-vijay/nl/blob/master/09_Multi_label_classification_on_Tweets.ipynb\" target=\"_parent\"><img src=\"https://colab.research.google.com/assets/colab-badge.svg\" alt=\"Open In Colab\"/></a>"
      ]
    },
    {
      "cell_type": "markdown",
      "metadata": {
        "id": "rTrYuRXLRTpY"
      },
      "source": [
        "###Multi-label classification"
      ]
    },
    {
      "cell_type": "code",
      "metadata": {
        "colab": {
          "base_uri": "https://localhost:8080/"
        },
        "id": "p0jdxFazRNr5",
        "outputId": "f006619b-51bd-4996-bda2-93b54cebc488"
      },
      "source": [
        "!wget https://github.com/raj-vijay/nl/raw/master/files/Toxic_Train.csv"
      ],
      "execution_count": null,
      "outputs": [
        {
          "output_type": "stream",
          "name": "stdout",
          "text": [
            "--2021-11-06 22:01:45--  https://github.com/raj-vijay/nl/raw/master/files/Toxic_Train.csv\n",
            "Resolving github.com (github.com)... 140.82.121.4\n",
            "Connecting to github.com (github.com)|140.82.121.4|:443... connected.\n",
            "HTTP request sent, awaiting response... 302 Found\n",
            "Location: https://raw.githubusercontent.com/raj-vijay/nl/master/files/Toxic_Train.csv [following]\n",
            "--2021-11-06 22:01:45--  https://raw.githubusercontent.com/raj-vijay/nl/master/files/Toxic_Train.csv\n",
            "Resolving raw.githubusercontent.com (raw.githubusercontent.com)... 185.199.108.133, 185.199.109.133, 185.199.110.133, ...\n",
            "Connecting to raw.githubusercontent.com (raw.githubusercontent.com)|185.199.108.133|:443... connected.\n",
            "HTTP request sent, awaiting response... 200 OK\n",
            "Length: 630345 (616K) [text/plain]\n",
            "Saving to: ‘Toxic_Train.csv’\n",
            "\n",
            "Toxic_Train.csv     100%[===================>] 615.57K  --.-KB/s    in 0.02s   \n",
            "\n",
            "2021-11-06 22:01:46 (31.6 MB/s) - ‘Toxic_Train.csv’ saved [630345/630345]\n",
            "\n"
          ]
        }
      ]
    },
    {
      "cell_type": "code",
      "metadata": {
        "colab": {
          "base_uri": "https://localhost:8080/"
        },
        "id": "Z9BKDD4nRajb",
        "outputId": "c7f5d634-1732-4201-de3e-d83ac0c7894a"
      },
      "source": [
        "!wget https://github.com/raj-vijay/nl/raw/master/files/Toxic_Test_For_Evaluation.csv"
      ],
      "execution_count": null,
      "outputs": [
        {
          "output_type": "stream",
          "name": "stdout",
          "text": [
            "--2021-11-06 22:01:58--  https://github.com/raj-vijay/nl/raw/master/files/Toxic_Test_For_Evaluation.csv\n",
            "Resolving github.com (github.com)... 140.82.121.3\n",
            "Connecting to github.com (github.com)|140.82.121.3|:443... connected.\n",
            "HTTP request sent, awaiting response... 302 Found\n",
            "Location: https://raw.githubusercontent.com/raj-vijay/nl/master/files/Toxic_Test_For_Evaluation.csv [following]\n",
            "--2021-11-06 22:01:58--  https://raw.githubusercontent.com/raj-vijay/nl/master/files/Toxic_Test_For_Evaluation.csv\n",
            "Resolving raw.githubusercontent.com (raw.githubusercontent.com)... 185.199.108.133, 185.199.109.133, 185.199.110.133, ...\n",
            "Connecting to raw.githubusercontent.com (raw.githubusercontent.com)|185.199.108.133|:443... connected.\n",
            "HTTP request sent, awaiting response... 200 OK\n",
            "Length: 19655 (19K) [text/plain]\n",
            "Saving to: ‘Toxic_Test_For_Evaluation.csv’\n",
            "\n",
            "Toxic_Test_For_Eval 100%[===================>]  19.19K  --.-KB/s    in 0s      \n",
            "\n",
            "2021-11-06 22:01:59 (72.0 MB/s) - ‘Toxic_Test_For_Evaluation.csv’ saved [19655/19655]\n",
            "\n"
          ]
        }
      ]
    },
    {
      "cell_type": "code",
      "metadata": {
        "id": "3ZDezhPZRdqI"
      },
      "source": [
        "import pandas as pd\n",
        "import numpy as np"
      ],
      "execution_count": null,
      "outputs": []
    },
    {
      "cell_type": "code",
      "metadata": {
        "id": "qJvuiKjwRiEH"
      },
      "source": [
        "df = pd.read_csv('Toxic_Train.csv')"
      ],
      "execution_count": null,
      "outputs": []
    },
    {
      "cell_type": "code",
      "metadata": {
        "colab": {
          "base_uri": "https://localhost:8080/",
          "height": 204
        },
        "id": "173wz452Rs0q",
        "outputId": "0561f8e9-a559-40ac-a0e3-7d18d9e0f5e6"
      },
      "source": [
        "df.head()"
      ],
      "execution_count": null,
      "outputs": [
        {
          "output_type": "execute_result",
          "data": {
            "text/html": [
              "<div>\n",
              "<style scoped>\n",
              "    .dataframe tbody tr th:only-of-type {\n",
              "        vertical-align: middle;\n",
              "    }\n",
              "\n",
              "    .dataframe tbody tr th {\n",
              "        vertical-align: top;\n",
              "    }\n",
              "\n",
              "    .dataframe thead th {\n",
              "        text-align: right;\n",
              "    }\n",
              "</style>\n",
              "<table border=\"1\" class=\"dataframe\">\n",
              "  <thead>\n",
              "    <tr style=\"text-align: right;\">\n",
              "      <th></th>\n",
              "      <th>comment_text</th>\n",
              "      <th>Sub1_Toxic</th>\n",
              "      <th>Sub2_Engaging</th>\n",
              "      <th>Sub3_FactClaiming</th>\n",
              "    </tr>\n",
              "  </thead>\n",
              "  <tbody>\n",
              "    <tr>\n",
              "      <th>0</th>\n",
              "      <td>Gestern bei Illner, Montag bei @MODERATOR ...i...</td>\n",
              "      <td>1</td>\n",
              "      <td>0</td>\n",
              "      <td>1</td>\n",
              "    </tr>\n",
              "    <tr>\n",
              "      <th>1</th>\n",
              "      <td>Mein Gott der war erst gestern bei Illner. Die...</td>\n",
              "      <td>1</td>\n",
              "      <td>0</td>\n",
              "      <td>1</td>\n",
              "    </tr>\n",
              "    <tr>\n",
              "      <th>2</th>\n",
              "      <td>@USER Die CDU lässt das so wie so nicht zu . S...</td>\n",
              "      <td>1</td>\n",
              "      <td>0</td>\n",
              "      <td>1</td>\n",
              "    </tr>\n",
              "    <tr>\n",
              "      <th>3</th>\n",
              "      <td>Bei meiner beschissenen Rente als 2x Geschiede...</td>\n",
              "      <td>1</td>\n",
              "      <td>0</td>\n",
              "      <td>1</td>\n",
              "    </tr>\n",
              "    <tr>\n",
              "      <th>4</th>\n",
              "      <td>Wer 40 Jahre zum Mindestlohn arbeiten muß, erh...</td>\n",
              "      <td>1</td>\n",
              "      <td>1</td>\n",
              "      <td>1</td>\n",
              "    </tr>\n",
              "  </tbody>\n",
              "</table>\n",
              "</div>"
            ],
            "text/plain": [
              "                                        comment_text  ...  Sub3_FactClaiming\n",
              "0  Gestern bei Illner, Montag bei @MODERATOR ...i...  ...                  1\n",
              "1  Mein Gott der war erst gestern bei Illner. Die...  ...                  1\n",
              "2  @USER Die CDU lässt das so wie so nicht zu . S...  ...                  1\n",
              "3  Bei meiner beschissenen Rente als 2x Geschiede...  ...                  1\n",
              "4  Wer 40 Jahre zum Mindestlohn arbeiten muß, erh...  ...                  1\n",
              "\n",
              "[5 rows x 4 columns]"
            ]
          },
          "metadata": {},
          "execution_count": 7
        }
      ]
    },
    {
      "cell_type": "code",
      "metadata": {
        "id": "sAbp9oltR3fZ"
      },
      "source": [
        "labels = list(df.columns)\n",
        "labels.remove('comment_text')"
      ],
      "execution_count": null,
      "outputs": []
    },
    {
      "cell_type": "code",
      "metadata": {
        "colab": {
          "base_uri": "https://localhost:8080/",
          "height": 366
        },
        "id": "6aZ0mKZQR8aK",
        "outputId": "38812e49-3c05-4fa4-f5ac-57b69dc5fd1f"
      },
      "source": [
        "ax = df[labels].sum(axis=0).plot(kind='bar', title='Labels');\n",
        "for p in ax.patches:\n",
        "    ax.annotate(str(int(p.get_height())), (p.get_x() * 1.01, p.get_height() * 1.001))"
      ],
      "execution_count": null,
      "outputs": [
        {
          "output_type": "display_data",
          "data": {
            "image/png": "[encoded data removed]",
            "text/plain": [
              "<Figure size 432x288 with 1 Axes>"
            ]
          },
          "metadata": {
            "needs_background": "light"
          }
        }
      ]
    },
    {
      "cell_type": "code",
      "metadata": {
        "colab": {
          "base_uri": "https://localhost:8080/"
        },
        "id": "c1XNrYzUSKdH",
        "outputId": "c9d2b04a-1990-4c9a-b0a4-50dd59f46f4e"
      },
      "source": [
        "df['categorized'] = df.iloc[:,1:].sum(axis=1).apply(bool)\n",
        "df['categorized'].value_counts()"
      ],
      "execution_count": null,
      "outputs": [
        {
          "output_type": "execute_result",
          "data": {
            "text/plain": [
              "True     2130\n",
              "False    1064\n",
              "Name: categorized, dtype: int64"
            ]
          },
          "metadata": {},
          "execution_count": 11
        }
      ]
    },
    {
      "cell_type": "code",
      "metadata": {
        "id": "UWZEtXpESLc-"
      },
      "source": [
        "categorized_rows = df[df['categorized'] == True]\n",
        "uncategorized_rows = df[df['categorized'] == False].sample(frac=0.3)"
      ],
      "execution_count": null,
      "outputs": []
    },
    {
      "cell_type": "code",
      "metadata": {
        "colab": {
          "base_uri": "https://localhost:8080/"
        },
        "id": "xVUk47QASRHL",
        "outputId": "685471aa-a2f8-432f-ad75-11e8976744d7"
      },
      "source": [
        "df = categorized_rows.append(uncategorized_rows)\n",
        "df['categorized'].value_counts()"
      ],
      "execution_count": null,
      "outputs": [
        {
          "output_type": "execute_result",
          "data": {
            "text/plain": [
              "True     2130\n",
              "False     319\n",
              "Name: categorized, dtype: int64"
            ]
          },
          "metadata": {},
          "execution_count": 13
        }
      ]
    },
    {
      "cell_type": "markdown",
      "metadata": {
        "id": "ALaLXjxuSWdP"
      },
      "source": [
        "###Baseline Model"
      ]
    },
    {
      "cell_type": "code",
      "metadata": {
        "id": "2DgW_qPzSSTt"
      },
      "source": [
        "import nltk\n",
        "from nltk.corpus import stopwords\n",
        "from nltk.stem.snowball import SnowballStemmer\n",
        "import re"
      ],
      "execution_count": null,
      "outputs": []
    },
    {
      "cell_type": "code",
      "metadata": {
        "id": "OYija5fJSb9N"
      },
      "source": [
        "from nltk.corpus import stopwords"
      ],
      "execution_count": null,
      "outputs": []
    },
    {
      "cell_type": "code",
      "metadata": {
        "colab": {
          "base_uri": "https://localhost:8080/"
        },
        "id": "tElKkhTySiIt",
        "outputId": "3876be42-ab6c-4a7a-c524-9f9fded118cc"
      },
      "source": [
        "nltk.download('stopwords')"
      ],
      "execution_count": null,
      "outputs": [
        {
          "output_type": "stream",
          "name": "stdout",
          "text": [
            "[nltk_data] Downloading package stopwords to /root/nltk_data...\n",
            "[nltk_data]   Unzipping corpora/stopwords.zip.\n"
          ]
        },
        {
          "output_type": "execute_result",
          "data": {
            "text/plain": [
              "True"
            ]
          },
          "metadata": {},
          "execution_count": 16
        }
      ]
    },
    {
      "cell_type": "code",
      "metadata": {
        "id": "PmeBlJn9SnLk"
      },
      "source": [
        "german_stop_words = stopwords.words('german')"
      ],
      "execution_count": null,
      "outputs": []
    },
    {
      "cell_type": "code",
      "metadata": {
        "id": "bgrSEZGyTDJU"
      },
      "source": [
        "re_stop_words = re.compile(r\"\\b(\" + \"|\".join(german_stop_words) + \")\\\\W\", re.I)\n",
        "def removeStopWords(sentence):\n",
        "    global re_stop_words\n",
        "    return re_stop_words.sub(\" \", sentence)\n",
        "df['comment_text'] = df['comment_text'].apply(removeStopWords)"
      ],
      "execution_count": null,
      "outputs": []
    },
    {
      "cell_type": "code",
      "metadata": {
        "id": "HE8RsUm0TWBw"
      },
      "source": [
        "import tensorflow as tf\n",
        "from tensorflow.keras import layers"
      ],
      "execution_count": null,
      "outputs": []
    },
    {
      "cell_type": "code",
      "metadata": {
        "id": "kagWVEUxTdLI"
      },
      "source": [
        "MAX_VOCAB = 500"
      ],
      "execution_count": null,
      "outputs": []
    },
    {
      "cell_type": "code",
      "metadata": {
        "id": "vq11GeWoTfZi"
      },
      "source": [
        "encoder = layers.experimental.preprocessing.TextVectorization(\n",
        "                    max_tokens=MAX_VOCAB, standardize='lower_and_strip_punctuation'\n",
        "                )"
      ],
      "execution_count": null,
      "outputs": []
    },
    {
      "cell_type": "code",
      "metadata": {
        "id": "jCWFCP4NTiSV"
      },
      "source": [
        "sequences = df[\"comment_text\"].values"
      ],
      "execution_count": null,
      "outputs": []
    },
    {
      "cell_type": "code",
      "metadata": {
        "id": "eLp7oAmkTkuu"
      },
      "source": [
        "targets = df[labels].values"
      ],
      "execution_count": null,
      "outputs": []
    },
    {
      "cell_type": "code",
      "metadata": {
        "id": "qUDXGmmHTnGv"
      },
      "source": [
        "encoder.adapt(sequences)"
      ],
      "execution_count": null,
      "outputs": []
    },
    {
      "cell_type": "code",
      "metadata": {
        "colab": {
          "base_uri": "https://localhost:8080/"
        },
        "id": "Ywg-xqWJTpWW",
        "outputId": "28dfa226-3b3e-470e-d913-e510e6b2fc25"
      },
      "source": [
        "print(encoder.get_vocabulary()[:20])"
      ],
      "execution_count": null,
      "outputs": [
        {
          "output_type": "stream",
          "name": "stdout",
          "text": [
            "['', '[UNK]', 'user', 'mal', 'mehr', 'ja', 'schon', 'immer', 'menschen', 'medium', 'afd', 'geht', 'deutschland', 'gibt', 'leben', 'wer', 'einfach', 'grünen', 'ganz', 'warum']\n"
          ]
        }
      ]
    },
    {
      "cell_type": "code",
      "metadata": {
        "id": "DBUZBts6TsH5"
      },
      "source": [
        "model = tf.keras.Sequential([\n",
        "    encoder,\n",
        "    tf.keras.layers.Embedding(\n",
        "        input_dim=len(encoder.get_vocabulary()),\n",
        "        output_dim=64,\n",
        "        mask_zero=True),\n",
        "    tf.keras.layers.LSTM(64),\n",
        "    tf.keras.layers.Dense(64, activation='relu'),\n",
        "    tf.keras.layers.Dense(targets.shape[1], activation='sigmoid')\n",
        "])"
      ],
      "execution_count": null,
      "outputs": []
    },
    {
      "cell_type": "code",
      "metadata": {
        "id": "u29svNosTv3X"
      },
      "source": [
        "model.compile(loss=tf.keras.losses.BinaryCrossentropy(from_logits=False),\n",
        "              optimizer=tf.keras.optimizers.Adam(1e-4),\n",
        "              metrics=[tf.keras.metrics.CategoricalCrossentropy()])"
      ],
      "execution_count": null,
      "outputs": []
    },
    {
      "cell_type": "code",
      "metadata": {
        "colab": {
          "base_uri": "https://localhost:8080/"
        },
        "id": "NSGkMDOiTx-6",
        "outputId": "92ab7cc6-e84a-45ff-c9b6-da79cf53f890"
      },
      "source": [
        "history = model.fit(sequences, targets, epochs=10,\n",
        "                    batch_size=32,\n",
        "                    validation_split=0.2)"
      ],
      "execution_count": null,
      "outputs": [
        {
          "output_type": "stream",
          "name": "stdout",
          "text": [
            "Epoch 1/10\n",
            "62/62 [==============================] - 8s 74ms/step - loss: 0.6924 - categorical_crossentropy: 1.5766 - val_loss: 0.6913 - val_categorical_crossentropy: 0.4886\n",
            "Epoch 2/10\n",
            "62/62 [==============================] - 4s 56ms/step - loss: 0.6898 - categorical_crossentropy: 1.5722 - val_loss: 0.6902 - val_categorical_crossentropy: 0.4892\n",
            "Epoch 3/10\n",
            "62/62 [==============================] - 4s 57ms/step - loss: 0.6790 - categorical_crossentropy: 1.5835 - val_loss: 0.6961 - val_categorical_crossentropy: 0.5149\n",
            "Epoch 4/10\n",
            "62/62 [==============================] - 4s 58ms/step - loss: 0.6618 - categorical_crossentropy: 1.5804 - val_loss: 0.6760 - val_categorical_crossentropy: 0.5071\n",
            "Epoch 5/10\n",
            "62/62 [==============================] - 4s 58ms/step - loss: 0.6536 - categorical_crossentropy: 1.5653 - val_loss: 0.6582 - val_categorical_crossentropy: 0.5022\n",
            "Epoch 6/10\n",
            "62/62 [==============================] - 4s 59ms/step - loss: 0.6483 - categorical_crossentropy: 1.5597 - val_loss: 0.6495 - val_categorical_crossentropy: 0.5048\n",
            "Epoch 7/10\n",
            "62/62 [==============================] - 4s 58ms/step - loss: 0.6440 - categorical_crossentropy: 1.5513 - val_loss: 0.6387 - val_categorical_crossentropy: 0.5011\n",
            "Epoch 8/10\n",
            "62/62 [==============================] - 4s 58ms/step - loss: 0.6402 - categorical_crossentropy: 1.5543 - val_loss: 0.6410 - val_categorical_crossentropy: 0.5067\n",
            "Epoch 9/10\n",
            "62/62 [==============================] - 4s 58ms/step - loss: 0.6360 - categorical_crossentropy: 1.5474 - val_loss: 0.6277 - val_categorical_crossentropy: 0.4953\n",
            "Epoch 10/10\n",
            "62/62 [==============================] - 4s 59ms/step - loss: 0.6310 - categorical_crossentropy: 1.5406 - val_loss: 0.6379 - val_categorical_crossentropy: 0.5053\n"
          ]
        }
      ]
    },
    {
      "cell_type": "code",
      "metadata": {
        "id": "_lhjyzFtUuQQ"
      },
      "source": [
        "pred = model.predict(sequences)"
      ],
      "execution_count": null,
      "outputs": []
    },
    {
      "cell_type": "code",
      "metadata": {
        "colab": {
          "base_uri": "https://localhost:8080/"
        },
        "id": "_dxQ57s4Uwqq",
        "outputId": "6968b7ba-985a-42ae-a401-01440a1d36c4"
      },
      "source": [
        "from sklearn.metrics import classification_report\n",
        "THRESH = 0.5\n",
        "for i in range(len(labels)):\n",
        "    y_true = targets[:,i]\n",
        "    y_pred = (pred[:,i] > THRESH).astype(int)\n",
        "    print(f\"======={labels[i]}\")\n",
        "    print(classification_report(y_true, y_pred))"
      ],
      "execution_count": null,
      "outputs": [
        {
          "output_type": "stream",
          "name": "stdout",
          "text": [
            "=======Sub1_Toxic\n",
            "              precision    recall  f1-score   support\n",
            "\n",
            "           0       0.62      0.41      0.49      1343\n",
            "           1       0.49      0.70      0.58      1106\n",
            "\n",
            "    accuracy                           0.54      2449\n",
            "   macro avg       0.56      0.55      0.54      2449\n",
            "weighted avg       0.56      0.54      0.53      2449\n",
            "\n",
            "=======Sub2_Engaging\n",
            "              precision    recall  f1-score   support\n",
            "\n",
            "           0       0.78      0.87      0.83      1603\n",
            "           1       0.69      0.54      0.60       846\n",
            "\n",
            "    accuracy                           0.76      2449\n",
            "   macro avg       0.74      0.71      0.71      2449\n",
            "weighted avg       0.75      0.76      0.75      2449\n",
            "\n",
            "=======Sub3_FactClaiming\n",
            "              precision    recall  f1-score   support\n",
            "\n",
            "           0       0.70      0.75      0.72      1369\n",
            "           1       0.65      0.59      0.62      1080\n",
            "\n",
            "    accuracy                           0.68      2449\n",
            "   macro avg       0.67      0.67      0.67      2449\n",
            "weighted avg       0.67      0.68      0.67      2449\n",
            "\n"
          ]
        }
      ]
    },
    {
      "cell_type": "code",
      "metadata": {
        "colab": {
          "base_uri": "https://localhost:8080/"
        },
        "id": "csp00rBkUyDD",
        "outputId": "de69e9aa-a699-47cd-d44c-641d48f1ebcc"
      },
      "source": [
        "from scipy import stats\n",
        "y_pred = (pred > THRESH)\n",
        "\n",
        "difference = tf.math.logical_xor(tf.cast(targets, dtype=bool), y_pred)\n",
        "difference = difference.numpy().sum(axis=1)\n",
        "print(\"difference stats :\\n\\t\",stats.describe(difference))"
      ],
      "execution_count": null,
      "outputs": [
        {
          "output_type": "stream",
          "name": "stdout",
          "text": [
            "difference stats :\n",
            "\t DescribeResult(nobs=2449, minmax=(0, 3), mean=1.0265414454879542, variance=0.9196384011614717, skewness=0.4668549845355353, kurtosis=-0.8833186782206646)\n"
          ]
        }
      ]
    },
    {
      "cell_type": "code",
      "metadata": {
        "colab": {
          "base_uri": "https://localhost:8080/"
        },
        "id": "6N8Gqg6AU2g_",
        "outputId": "d9c22e2b-c6ff-4dd2-dc6d-ba249371e83b"
      },
      "source": [
        "m = tf.keras.metrics.Recall()\n",
        "m.update_state(targets, y_pred)\n",
        "m.result().numpy()"
      ],
      "execution_count": null,
      "outputs": [
        {
          "output_type": "execute_result",
          "data": {
            "text/plain": [
              "0.61510557"
            ]
          },
          "metadata": {},
          "execution_count": 35
        }
      ]
    },
    {
      "cell_type": "code",
      "metadata": {
        "colab": {
          "base_uri": "https://localhost:8080/"
        },
        "id": "HXs_BvN3U5rU",
        "outputId": "f318316d-129d-4591-cc65-0bd2e9a32ebf"
      },
      "source": [
        "m = tf.keras.metrics.Precision()\n",
        "m.update_state(targets, y_pred)\n",
        "m.result().numpy()"
      ],
      "execution_count": null,
      "outputs": [
        {
          "output_type": "execute_result",
          "data": {
            "text/plain": [
              "0.58063513"
            ]
          },
          "metadata": {},
          "execution_count": 36
        }
      ]
    }
  ]
}