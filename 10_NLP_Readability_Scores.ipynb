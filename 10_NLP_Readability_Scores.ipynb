{
  "nbformat": 4,
  "nbformat_minor": 0,
  "metadata": {
    "colab": {
      "name": "10_NLP_Readability_Scores.ipynb",
      "provenance": [],
      "collapsed_sections": [],
      "authorship_tag": "ABX9TyPqp3+SFmLKzVMS3+fCmawc",
      "include_colab_link": true
    },
    "kernelspec": {
      "name": "python3",
      "display_name": "Python 3"
    },
    "language_info": {
      "name": "python"
    }
  },
  "cells": [
    {
      "cell_type": "markdown",
      "metadata": {
        "id": "view-in-github",
        "colab_type": "text"
      },
      "source": [
        "<a href=\"https://colab.research.google.com/github/raj-vijay/nl/blob/master/10_NLP_Readability_Scores.ipynb\" target=\"_parent\"><img src=\"https://colab.research.google.com/assets/colab-badge.svg\" alt=\"Open In Colab\"/></a>"
      ]
    },
    {
      "cell_type": "markdown",
      "metadata": {
        "id": "kBqGBdBHNBxW"
      },
      "source": [
        "##Readability Scores"
      ]
    },
    {
      "cell_type": "markdown",
      "metadata": {
        "id": "m_LvGgXIPYaA"
      },
      "source": [
        "###1. Flesch reading ease score"
      ]
    },
    {
      "cell_type": "markdown",
      "metadata": {
        "id": "eRjDzvBRPV0n"
      },
      "source": [
        "We compute the Flesch reading ease score for Albert Camus' famous essay The Myth of Sisyphus. We will then interpret the value of this score as explained in the video and try to determine the reading level of the essay."
      ]
    },
    {
      "cell_type": "code",
      "metadata": {
        "colab": {
          "base_uri": "https://localhost:8080/"
        },
        "id": "R_uMP6_eNHj4",
        "outputId": "6b633efc-d4fe-40da-8aca-8db94b9a5892"
      },
      "source": [
        "!pip install textatistic"
      ],
      "execution_count": null,
      "outputs": [
        {
          "output_type": "stream",
          "name": "stdout",
          "text": [
            "Requirement already satisfied: textatistic in /usr/local/lib/python3.7/dist-packages (0.0.1)\n",
            "Requirement already satisfied: pyhyphen>=2.0.5 in /usr/local/lib/python3.7/dist-packages (from textatistic) (4.0.2)\n",
            "Requirement already satisfied: wheel>=0.36.0 in /usr/local/lib/python3.7/dist-packages (from pyhyphen>=2.0.5->textatistic) (0.37.0)\n",
            "Requirement already satisfied: appdirs>=1.4.0 in /usr/local/lib/python3.7/dist-packages (from pyhyphen>=2.0.5->textatistic) (1.4.4)\n",
            "Requirement already satisfied: setuptools>=52.0 in /usr/local/lib/python3.7/dist-packages (from pyhyphen>=2.0.5->textatistic) (57.4.0)\n",
            "Requirement already satisfied: requests>=2.25 in /usr/local/lib/python3.7/dist-packages (from pyhyphen>=2.0.5->textatistic) (2.26.0)\n",
            "Requirement already satisfied: urllib3<1.27,>=1.21.1 in /usr/local/lib/python3.7/dist-packages (from requests>=2.25->pyhyphen>=2.0.5->textatistic) (1.24.3)\n",
            "Requirement already satisfied: certifi>=2017.4.17 in /usr/local/lib/python3.7/dist-packages (from requests>=2.25->pyhyphen>=2.0.5->textatistic) (2021.10.8)\n",
            "Requirement already satisfied: idna<4,>=2.5 in /usr/local/lib/python3.7/dist-packages (from requests>=2.25->pyhyphen>=2.0.5->textatistic) (2.10)\n",
            "Requirement already satisfied: charset-normalizer~=2.0.0 in /usr/local/lib/python3.7/dist-packages (from requests>=2.25->pyhyphen>=2.0.5->textatistic) (2.0.7)\n"
          ]
        }
      ]
    },
    {
      "cell_type": "code",
      "metadata": {
        "id": "8koQDCVsM-8j"
      },
      "source": [
        "# Import Textatistic\n",
        "from textatistic import Textatistic"
      ],
      "execution_count": null,
      "outputs": []
    },
    {
      "cell_type": "code",
      "metadata": {
        "colab": {
          "base_uri": "https://localhost:8080/"
        },
        "id": "T6aBrpKRXQAz",
        "outputId": "87dab62d-786e-4ae5-b4fb-c7d8e1740dcb"
      },
      "source": [
        "!wget https://github.com/raj-vijay/nl/raw/master/files/sisyphus_essay.txt"
      ],
      "execution_count": null,
      "outputs": [
        {
          "output_type": "stream",
          "name": "stdout",
          "text": [
            "--2021-11-29 15:45:11--  https://github.com/raj-vijay/nl/raw/master/files/sisyphus_essay.txt\n",
            "Resolving github.com (github.com)... 140.82.112.3\n",
            "Connecting to github.com (github.com)|140.82.112.3|:443... connected.\n",
            "HTTP request sent, awaiting response... 302 Found\n",
            "Location: https://raw.githubusercontent.com/raj-vijay/nl/master/files/sisyphus_essay.txt [following]\n",
            "--2021-11-29 15:45:11--  https://raw.githubusercontent.com/raj-vijay/nl/master/files/sisyphus_essay.txt\n",
            "Resolving raw.githubusercontent.com (raw.githubusercontent.com)... 185.199.108.133, 185.199.109.133, 185.199.110.133, ...\n",
            "Connecting to raw.githubusercontent.com (raw.githubusercontent.com)|185.199.108.133|:443... connected.\n",
            "HTTP request sent, awaiting response... 200 OK\n",
            "Length: 7827 (7.6K) [text/plain]\n",
            "Saving to: ‘sisyphus_essay.txt.1’\n",
            "\n",
            "\rsisyphus_essay.txt.   0%[                    ]       0  --.-KB/s               \rsisyphus_essay.txt. 100%[===================>]   7.64K  --.-KB/s    in 0s      \n",
            "\n",
            "2021-11-29 15:45:11 (68.1 MB/s) - ‘sisyphus_essay.txt.1’ saved [7827/7827]\n",
            "\n"
          ]
        }
      ]
    },
    {
      "cell_type": "code",
      "metadata": {
        "id": "1j0QZD9jO6tO"
      },
      "source": [
        "with open('sisyphus_essay.txt', 'r') as f:\n",
        "    sisyphus_essay = f.read()"
      ],
      "execution_count": null,
      "outputs": []
    },
    {
      "cell_type": "code",
      "metadata": {
        "colab": {
          "base_uri": "https://localhost:8080/",
          "height": 35
        },
        "id": "v5BClQTsO-lA",
        "outputId": "8943be73-550e-4123-ab42-0f18348ffc04"
      },
      "source": [
        "sisyphus_essay[:100]"
      ],
      "execution_count": null,
      "outputs": [
        {
          "output_type": "execute_result",
          "data": {
            "application/vnd.google.colaboratory.intrinsic+json": {
              "type": "string"
            },
            "text/plain": [
              "'The gods had condemned Sisyphus to ceaselessly rolling a rock to the top of a mountain, whence the s'"
            ]
          },
          "metadata": {},
          "execution_count": 13
        }
      ]
    },
    {
      "cell_type": "code",
      "metadata": {
        "id": "bhlWa894NTNp"
      },
      "source": [
        "# Compute the readability scores \n",
        "readability_scores = Textatistic(sisyphus_essay).scores"
      ],
      "execution_count": null,
      "outputs": []
    },
    {
      "cell_type": "code",
      "metadata": {
        "colab": {
          "base_uri": "https://localhost:8080/"
        },
        "id": "m316te2sPDoG",
        "outputId": "7b3d4e3c-e826-432a-a515-84525f7a9612"
      },
      "source": [
        "# Print the flesch reading ease score\n",
        "flesch = readability_scores['flesch_score']\n",
        "print(\"The Flesch Reading Ease is %.2f\" % (flesch))"
      ],
      "execution_count": null,
      "outputs": [
        {
          "output_type": "stream",
          "name": "stdout",
          "text": [
            "The Flesch Reading Ease is 81.67\n"
          ]
        }
      ]
    },
    {
      "cell_type": "markdown",
      "metadata": {
        "id": "uCVeXdVHPcBW"
      },
      "source": [
        "###2. Gunning fog index"
      ]
    },
    {
      "cell_type": "markdown",
      "metadata": {
        "id": "XqwANg44P7Aj"
      },
      "source": [
        "Here, we compute the readability of excerpts using the Gunning fog index and consequently, it can be sued to determine the relative difficulty of reading of various publications."
      ]
    },
    {
      "cell_type": "code",
      "metadata": {
        "colab": {
          "base_uri": "https://localhost:8080/"
        },
        "id": "puRKHxkhXbu_",
        "outputId": "7c842d22-e0ad-42ce-cb91-cafcef10dfa2"
      },
      "source": [
        "!wget https://github.com/raj-vijay/nl/raw/master/files/forbes.txt"
      ],
      "execution_count": null,
      "outputs": [
        {
          "output_type": "stream",
          "name": "stdout",
          "text": [
            "--2021-11-29 15:45:11--  https://github.com/raj-vijay/nl/raw/master/files/forbes.txt\n",
            "Resolving github.com (github.com)... 140.82.113.4\n",
            "Connecting to github.com (github.com)|140.82.113.4|:443... connected.\n",
            "HTTP request sent, awaiting response... 302 Found\n",
            "Location: https://raw.githubusercontent.com/raj-vijay/nl/master/files/forbes.txt [following]\n",
            "--2021-11-29 15:45:11--  https://raw.githubusercontent.com/raj-vijay/nl/master/files/forbes.txt\n",
            "Resolving raw.githubusercontent.com (raw.githubusercontent.com)... 185.199.108.133, 185.199.109.133, 185.199.110.133, ...\n",
            "Connecting to raw.githubusercontent.com (raw.githubusercontent.com)|185.199.108.133|:443... connected.\n",
            "HTTP request sent, awaiting response... 200 OK\n",
            "Length: 4391 (4.3K) [text/plain]\n",
            "Saving to: ‘forbes.txt’\n",
            "\n",
            "forbes.txt          100%[===================>]   4.29K  --.-KB/s    in 0s      \n",
            "\n",
            "2021-11-29 15:45:12 (35.8 MB/s) - ‘forbes.txt’ saved [4391/4391]\n",
            "\n"
          ]
        }
      ]
    },
    {
      "cell_type": "code",
      "metadata": {
        "id": "xhqxDv0Jb9yQ"
      },
      "source": [
        "with open('forbes.txt', 'r') as f:\n",
        "    forbes = f.read()"
      ],
      "execution_count": null,
      "outputs": []
    },
    {
      "cell_type": "code",
      "metadata": {
        "id": "4gpzzEJSPjOU"
      },
      "source": [
        "# List of excerpts\n",
        "excerpts = [sisyphus_essay, forbes]"
      ],
      "execution_count": null,
      "outputs": []
    },
    {
      "cell_type": "code",
      "metadata": {
        "id": "gtP9tdeTPrqT"
      },
      "source": [
        "# Loop through excerpts and compute gunning fog index\n",
        "gunning_fog_scores = []\n",
        "for excerpt in excerpts:\n",
        "  readability_scores = Textatistic(excerpt).scores\n",
        "  gunning_fog = readability_scores['gunningfog_score']\n",
        "  gunning_fog_scores.append(gunning_fog)"
      ],
      "execution_count": null,
      "outputs": []
    },
    {
      "cell_type": "code",
      "metadata": {
        "colab": {
          "base_uri": "https://localhost:8080/"
        },
        "id": "SseJcphCPved",
        "outputId": "78851fd4-3e09-4cbc-f90b-39070179848c"
      },
      "source": [
        "# Print the gunning fog indices\n",
        "print(gunning_fog_scores)"
      ],
      "execution_count": null,
      "outputs": [
        {
          "output_type": "stream",
          "name": "stdout",
          "text": [
            "[7.913698140200286, 11.809516358463727]\n"
          ]
        }
      ]
    }
  ]
}