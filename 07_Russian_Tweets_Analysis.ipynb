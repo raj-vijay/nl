{
  "nbformat": 4,
  "nbformat_minor": 0,
  "metadata": {
    "colab": {
      "name": "Russian Tweets.ipynb",
      "provenance": [],
      "authorship_tag": "ABX9TyPWF/I7gb+L8ZRCGpq1oOlt",
      "include_colab_link": true
    },
    "kernelspec": {
      "name": "python3",
      "display_name": "Python 3"
    },
    "language_info": {
      "name": "python"
    }
  },
  "cells": [
    {
      "cell_type": "markdown",
      "metadata": {
        "id": "view-in-github",
        "colab_type": "text"
      },
      "source": [
        "<a href=\"https://colab.research.google.com/github/raj-vijay/nl/blob/master/07_Russian_Tweets_Analysis.ipynb\" target=\"_parent\"><img src=\"https://colab.research.google.com/assets/colab-badge.svg\" alt=\"Open In Colab\"/></a>"
      ]
    },
    {
      "cell_type": "markdown",
      "metadata": {
        "id": "8gNA24ZFMKsi"
      },
      "source": [
        "##Russian Tweets"
      ]
    },
    {
      "cell_type": "markdown",
      "metadata": {
        "id": "Z3y1QWBDKx8S"
      },
      "source": [
        "The dataset contains some Russian tweets associated with Russia's Internet Research Agency and compiled by FiveThirtyEight."
      ]
    },
    {
      "cell_type": "code",
      "source": [
        "!wget https://github.com/raj-vijay/nl/raw/master/files/russian_tweets.csv"
      ],
      "metadata": {
        "colab": {
          "base_uri": "https://localhost:8080/"
        },
        "id": "neNtJmF-J1q_",
        "outputId": "ed9af951-cbc6-4b5f-b9c0-d07165b007d8"
      },
      "execution_count": 1,
      "outputs": [
        {
          "output_type": "stream",
          "name": "stdout",
          "text": [
            "--2021-12-07 18:28:51--  https://github.com/raj-vijay/nl/raw/master/files/russian_tweets.csv\n",
            "Resolving github.com (github.com)... 140.82.112.4\n",
            "Connecting to github.com (github.com)|140.82.112.4|:443... connected.\n",
            "HTTP request sent, awaiting response... 302 Found\n",
            "Location: https://raw.githubusercontent.com/raj-vijay/nl/master/files/russian_tweets.csv [following]\n",
            "--2021-12-07 18:28:51--  https://raw.githubusercontent.com/raj-vijay/nl/master/files/russian_tweets.csv\n",
            "Resolving raw.githubusercontent.com (raw.githubusercontent.com)... 185.199.111.133, 185.199.108.133, 185.199.110.133, ...\n",
            "Connecting to raw.githubusercontent.com (raw.githubusercontent.com)|185.199.111.133|:443... connected.\n",
            "HTTP request sent, awaiting response... 200 OK\n",
            "Length: 120255 (117K) [text/plain]\n",
            "Saving to: ‘russian_tweets.csv’\n",
            "\n",
            "russian_tweets.csv  100%[===================>] 117.44K  --.-KB/s    in 0.02s   \n",
            "\n",
            "2021-12-07 18:28:52 (5.39 MB/s) - ‘russian_tweets.csv’ saved [120255/120255]\n",
            "\n"
          ]
        }
      ]
    },
    {
      "cell_type": "code",
      "metadata": {
        "id": "d9W4HxazKQtK"
      },
      "source": [
        "import pandas as pd"
      ],
      "execution_count": 2,
      "outputs": []
    },
    {
      "cell_type": "code",
      "metadata": {
        "id": "1M7smaS7KZe0"
      },
      "source": [
        "tweets = pd.read_csv('russian_tweets.csv')"
      ],
      "execution_count": 3,
      "outputs": []
    },
    {
      "cell_type": "code",
      "metadata": {
        "colab": {
          "base_uri": "https://localhost:8080/",
          "height": 206
        },
        "id": "an0LRTA8KfWf",
        "outputId": "43c302ff-f9e3-4fc4-c7fc-4f9f4e48efd2"
      },
      "source": [
        "tweets.head()"
      ],
      "execution_count": 4,
      "outputs": [
        {
          "output_type": "execute_result",
          "data": {
            "text/html": [
              "<div>\n",
              "<style scoped>\n",
              "    .dataframe tbody tr th:only-of-type {\n",
              "        vertical-align: middle;\n",
              "    }\n",
              "\n",
              "    .dataframe tbody tr th {\n",
              "        vertical-align: top;\n",
              "    }\n",
              "\n",
              "    .dataframe thead th {\n",
              "        text-align: right;\n",
              "    }\n",
              "</style>\n",
              "<table border=\"1\" class=\"dataframe\">\n",
              "  <thead>\n",
              "    <tr style=\"text-align: right;\">\n",
              "      <th></th>\n",
              "      <th>Unnamed: 0</th>\n",
              "      <th>content</th>\n",
              "    </tr>\n",
              "  </thead>\n",
              "  <tbody>\n",
              "    <tr>\n",
              "      <th>0</th>\n",
              "      <td>127447</td>\n",
              "      <td>LIVE STREAM VIDEO=&gt; Donald Trump Rallies in Co...</td>\n",
              "    </tr>\n",
              "    <tr>\n",
              "      <th>1</th>\n",
              "      <td>123642</td>\n",
              "      <td>Muslim Attacks NYPD Cops with Meat Cleaver. Me...</td>\n",
              "    </tr>\n",
              "    <tr>\n",
              "      <th>2</th>\n",
              "      <td>226970</td>\n",
              "      <td>.@vfpatlas well that's a swella word there (di...</td>\n",
              "    </tr>\n",
              "    <tr>\n",
              "      <th>3</th>\n",
              "      <td>138339</td>\n",
              "      <td>RT wehking_pamela: Bobby_Axelrod2k MMFlint don...</td>\n",
              "    </tr>\n",
              "    <tr>\n",
              "      <th>4</th>\n",
              "      <td>161610</td>\n",
              "      <td>Жители обстреливаемых районов Донецка проводят...</td>\n",
              "    </tr>\n",
              "  </tbody>\n",
              "</table>\n",
              "</div>"
            ],
            "text/plain": [
              "   Unnamed: 0                                            content\n",
              "0      127447  LIVE STREAM VIDEO=> Donald Trump Rallies in Co...\n",
              "1      123642  Muslim Attacks NYPD Cops with Meat Cleaver. Me...\n",
              "2      226970  .@vfpatlas well that's a swella word there (di...\n",
              "3      138339  RT wehking_pamela: Bobby_Axelrod2k MMFlint don...\n",
              "4      161610  Жители обстреливаемых районов Донецка проводят..."
            ]
          },
          "metadata": {},
          "execution_count": 4
        }
      ]
    },
    {
      "cell_type": "markdown",
      "metadata": {
        "id": "OpU2ziTjMIN-"
      },
      "source": [
        "###1. Character count of Russian tweets"
      ]
    },
    {
      "cell_type": "code",
      "metadata": {
        "id": "5ZtMqmnQKkHa"
      },
      "source": [
        "# Create a feature char_count\n",
        "tweets['char_count'] = tweets['content'].apply(len)"
      ],
      "execution_count": 5,
      "outputs": []
    },
    {
      "cell_type": "code",
      "metadata": {
        "colab": {
          "base_uri": "https://localhost:8080/"
        },
        "id": "kbgHQSSXKn8I",
        "outputId": "bf8c3c34-61f0-494b-cb81-d284b401b784"
      },
      "source": [
        "# Print the average character count\n",
        "print(tweets['char_count'].mean())"
      ],
      "execution_count": 6,
      "outputs": [
        {
          "output_type": "stream",
          "name": "stdout",
          "text": [
            "103.462\n"
          ]
        }
      ]
    },
    {
      "cell_type": "markdown",
      "metadata": {
        "id": "NM2gxyD4MOGK"
      },
      "source": [
        "###2. Hashtags and mentions in Russian tweets"
      ]
    },
    {
      "cell_type": "markdown",
      "metadata": {
        "id": "9JgIQieoMfDG"
      },
      "source": [
        "Here, we compute the number of hashtags and mentions in each tweet by defining two functions count_hashtags() and count_mentions() respectively and applying them to the content feature of tweets."
      ]
    },
    {
      "cell_type": "code",
      "metadata": {
        "id": "mP4V7VBnMpCo"
      },
      "source": [
        "import matplotlib.pyplot as plt"
      ],
      "execution_count": 7,
      "outputs": []
    },
    {
      "cell_type": "code",
      "metadata": {
        "id": "M1senkCxMRDK"
      },
      "source": [
        "# Function that returns number of hashtags in a string\n",
        "def count_hashtags(string):\n",
        "\t# Split the string into words\n",
        "    words = string.split()\n",
        "    \n",
        "    # Create a list of words that are hashtags\n",
        "    hashtags = [word for word in words if word.startswith('#')]\n",
        "    \n",
        "    # Return number of hashtags\n",
        "    return(len(hashtags))"
      ],
      "execution_count": 8,
      "outputs": []
    },
    {
      "cell_type": "code",
      "metadata": {
        "colab": {
          "base_uri": "https://localhost:8080/",
          "height": 281
        },
        "id": "WUv__0bRMiMV",
        "outputId": "55e494a8-5da5-4a52-a573-3a3a4ea11475"
      },
      "source": [
        "# Create a feature hashtag_count and display distribution\n",
        "tweets['hashtag_count'] = tweets['content'].apply(count_hashtags)\n",
        "tweets['hashtag_count'].hist()\n",
        "plt.title('Hashtag count distribution')\n",
        "plt.show()"
      ],
      "execution_count": 9,
      "outputs": [
        {
          "output_type": "display_data",
          "data": {
            "image/png": "[encoded data removed]",
            "text/plain": [
              "<Figure size 432x288 with 1 Axes>"
            ]
          },
          "metadata": {
            "needs_background": "light"
          }
        }
      ]
    },
    {
      "cell_type": "code",
      "metadata": {
        "id": "IfnOjBkmOH5s"
      },
      "source": [
        "# Function that returns number of mentions in a string\n",
        "def count_mentions(string):\n",
        "    # Split the string into words\n",
        "    words = string.split()\n",
        "    \n",
        "    # Create a list of words that are mentions\n",
        "    mentions = [word for word in words if word.startswith('@')]\n",
        "    \n",
        "    # Return number of mentions\n",
        "    return(len(mentions))"
      ],
      "execution_count": 10,
      "outputs": []
    },
    {
      "cell_type": "code",
      "metadata": {
        "id": "bvcTwcZOOJgc",
        "outputId": "a4448f3d-d6ee-4c0d-8638-0684868a8fe9",
        "colab": {
          "base_uri": "https://localhost:8080/",
          "height": 281
        }
      },
      "source": [
        "# Create a feature mention_count and display distribution\n",
        "tweets['mention_count'] = tweets['content'].apply(count_mentions)\n",
        "tweets['mention_count'].hist();\n",
        "plt.title('Mention count distribution');"
      ],
      "execution_count": 11,
      "outputs": [
        {
          "output_type": "display_data",
          "data": {
            "image/png": "[encoded data removed]",
            "text/plain": [
              "<Figure size 432x288 with 1 Axes>"
            ]
          },
          "metadata": {
            "needs_background": "light"
          }
        }
      ]
    }
  ]
}